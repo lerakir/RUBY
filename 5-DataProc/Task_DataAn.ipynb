{
  "nbformat": 4,
  "nbformat_minor": 0,
  "metadata": {
    "colab": {
      "provenance": [],
      "include_colab_link": true
    },
    "kernelspec": {
      "name": "python3",
      "display_name": "Python 3"
    },
    "language_info": {
      "name": "python"
    }
  },
  "cells": [
    {
      "cell_type": "markdown",
      "metadata": {
        "id": "view-in-github",
        "colab_type": "text"
      },
      "source": [
        "<a href=\"https://colab.research.google.com/github/lerakir/RUBY/blob/main/5-DataProc/Task_DataAn.ipynb\" target=\"_parent\"><img src=\"https://colab.research.google.com/assets/colab-badge.svg\" alt=\"Open In Colab\"/></a>"
      ]
    },
    {
      "cell_type": "markdown",
      "source": [
        "## Задание по анализу данных и визуализации\n",
        "\n",
        "Этапы работы:\n",
        "- Выбрать данные, которые вам интересны, предпочтительно в табличной форме (Excel, CSV)\n",
        "- С помощью Pandas провести какой-то анализ данных и визуализацию\n",
        "- По возможности стилизовать визуализацию, чтобы получить некоторую консистентную инфографику в оригинальном стиле\n",
        "\n",
        "### Выбор данных\n",
        "\n",
        "Рекомендумые ресурсы для поиска данных:\n",
        "* [Список от Yandex](https://yandex.ru/project/oda/useful)\n",
        "* [Kaggle](http://Kaggle.com) – сайт соревований для датасайнтистов. Там же можно искать код\n",
        "* Открытые данные:\n",
        "  - ищите в интернете по этим ключевым словам\n",
        "  - https://data.world/datasets/open-data\n",
        "* Различные текстовые данные, из которых можно извлечь что-то интересное:\n",
        "  - Видео на YouTube, у которых есть субтитры, или которые можно преобразовать в текст (см. пример)\n",
        "  - Библиотеки книг: [lib.ru](http://lib.ru), [Project Gutenberg](https://www.gutenberg.org/) и др.\n",
        "* Статьи:\n",
        "  - [15 of the Best Free Open Data Sources for 2024](https://careerfoundry.com/en/blog/data-analytics/open-data-sources/)\n",
        "\n",
        "### Анализ данных\n",
        "\n",
        "Для анализа данных используем Pandas. Если вы не знаете, как сделать какую-то операцию:\n",
        "* Ищем в интернет (как правило, хорошие ответы находятся на сайте stackoverflow.com)\n",
        "* Спрашиваем [у ChatGPT](https://soshnikov.com/ai/how-to-use-chatgpt-ru/)"
      ],
      "metadata": {
        "id": "9dPKBh6A8GeX"
      }
    },
    {
      "cell_type": "code",
      "execution_count": null,
      "metadata": {
        "id": "B--DBy218EP_"
      },
      "outputs": [],
      "source": [
        "import pandas as pd\n",
        "\n",
        "# df = pd.read_csv(...) # чтение файла CSV, иногда может потребоваться указать разделитель sep=';'\n",
        "# df = pd.read_excel('titanic.xlsx') # чтение файла Excel"
      ]
    },
    {
      "cell_type": "code",
      "source": [
        "import pandas as pd\n",
        "\n",
        "df = pd.read_csv(\"\")\n"
      ],
      "metadata": {
        "id": "BRhVlGE2_enV",
        "outputId": "aeba3893-11df-48e8-fa9d-c9fbbc57bcbc",
        "colab": {
          "base_uri": "https://localhost:8080/",
          "height": 332
        }
      },
      "execution_count": 1,
      "outputs": [
        {
          "output_type": "error",
          "ename": "FileNotFoundError",
          "evalue": "[Errno 2] No such file or directory: '/mnt/data/archive (3).zip'",
          "traceback": [
            "\u001b[0;31m---------------------------------------------------------------------------\u001b[0m",
            "\u001b[0;31mFileNotFoundError\u001b[0m                         Traceback (most recent call last)",
            "\u001b[0;32m<ipython-input-1-9517d2f3dd71>\u001b[0m in \u001b[0;36m<cell line: 0>\u001b[0;34m()\u001b[0m\n\u001b[1;32m      7\u001b[0m \u001b[0;34m\u001b[0m\u001b[0m\n\u001b[1;32m      8\u001b[0m \u001b[0;31m# Распаковываем архив\u001b[0m\u001b[0;34m\u001b[0m\u001b[0;34m\u001b[0m\u001b[0m\n\u001b[0;32m----> 9\u001b[0;31m \u001b[0;32mwith\u001b[0m \u001b[0mzipfile\u001b[0m\u001b[0;34m.\u001b[0m\u001b[0mZipFile\u001b[0m\u001b[0;34m(\u001b[0m\u001b[0mzip_path\u001b[0m\u001b[0;34m,\u001b[0m \u001b[0;34m'r'\u001b[0m\u001b[0;34m)\u001b[0m \u001b[0;32mas\u001b[0m \u001b[0mzip_ref\u001b[0m\u001b[0;34m:\u001b[0m\u001b[0;34m\u001b[0m\u001b[0;34m\u001b[0m\u001b[0m\n\u001b[0m\u001b[1;32m     10\u001b[0m     \u001b[0mzip_ref\u001b[0m\u001b[0;34m.\u001b[0m\u001b[0mextractall\u001b[0m\u001b[0;34m(\u001b[0m\u001b[0mextract_path\u001b[0m\u001b[0;34m)\u001b[0m\u001b[0;34m\u001b[0m\u001b[0;34m\u001b[0m\u001b[0m\n\u001b[1;32m     11\u001b[0m \u001b[0;34m\u001b[0m\u001b[0m\n",
            "\u001b[0;32m/usr/lib/python3.11/zipfile.py\u001b[0m in \u001b[0;36m__init__\u001b[0;34m(self, file, mode, compression, allowZip64, compresslevel, strict_timestamps, metadata_encoding)\u001b[0m\n\u001b[1;32m   1293\u001b[0m             \u001b[0;32mwhile\u001b[0m \u001b[0;32mTrue\u001b[0m\u001b[0;34m:\u001b[0m\u001b[0;34m\u001b[0m\u001b[0;34m\u001b[0m\u001b[0m\n\u001b[1;32m   1294\u001b[0m                 \u001b[0;32mtry\u001b[0m\u001b[0;34m:\u001b[0m\u001b[0;34m\u001b[0m\u001b[0;34m\u001b[0m\u001b[0m\n\u001b[0;32m-> 1295\u001b[0;31m                     \u001b[0mself\u001b[0m\u001b[0;34m.\u001b[0m\u001b[0mfp\u001b[0m \u001b[0;34m=\u001b[0m \u001b[0mio\u001b[0m\u001b[0;34m.\u001b[0m\u001b[0mopen\u001b[0m\u001b[0;34m(\u001b[0m\u001b[0mfile\u001b[0m\u001b[0;34m,\u001b[0m \u001b[0mfilemode\u001b[0m\u001b[0;34m)\u001b[0m\u001b[0;34m\u001b[0m\u001b[0;34m\u001b[0m\u001b[0m\n\u001b[0m\u001b[1;32m   1296\u001b[0m                 \u001b[0;32mexcept\u001b[0m \u001b[0mOSError\u001b[0m\u001b[0;34m:\u001b[0m\u001b[0;34m\u001b[0m\u001b[0;34m\u001b[0m\u001b[0m\n\u001b[1;32m   1297\u001b[0m                     \u001b[0;32mif\u001b[0m \u001b[0mfilemode\u001b[0m \u001b[0;32min\u001b[0m \u001b[0mmodeDict\u001b[0m\u001b[0;34m:\u001b[0m\u001b[0;34m\u001b[0m\u001b[0;34m\u001b[0m\u001b[0m\n",
            "\u001b[0;31mFileNotFoundError\u001b[0m: [Errno 2] No such file or directory: '/mnt/data/archive (3).zip'"
          ]
        }
      ]
    }
  ]
}